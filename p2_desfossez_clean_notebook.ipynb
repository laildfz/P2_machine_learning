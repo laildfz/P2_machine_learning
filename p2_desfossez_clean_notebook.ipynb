{
 "nbformat": 4,
 "nbformat_minor": 0,
 "metadata": {
  "colab": {
   "name": "p2-rayan-desfossez_clean_notebook.ipynb",
   "provenance": [],
   "collapsed_sections": [],
   "machine_shape": "hm"
  },
  "kernelspec": {
   "display_name": "Python 3",
   "language": "python",
   "name": "python3"
  },
  "language_info": {
   "codemirror_mode": {
    "name": "ipython",
    "version": 3
   },
   "file_extension": ".py",
   "mimetype": "text/x-python",
   "name": "python",
   "nbconvert_exporter": "python",
   "pygments_lexer": "ipython3",
   "version": "3.7.10"
  }
 },
 "cells": [
  {
   "cell_type": "markdown",
   "metadata": {
    "id": "NB03x0ijHWyf"
   },
   "source": [
    "Nous allons débuter l'analyse de données concernant OpenFoodFacts dans l'objectif de proposer une idée d'application au service de la santé publique.\n",
    "\n",
    "Pour commencer, nous allons importer les librairies scientifiques qui nous permettrons de travailler de manière efficace."
   ]
  },
  {
   "cell_type": "code",
   "metadata": {
    "id": "YCwLt-2pHWyq"
   },
   "source": [
    "import pandas as pd \n",
    "import numpy as np \n",
    "import re \n",
    "import ipywidgets as widgets\n",
    "import matplotlib.pyplot as plt\n",
    "import seaborn as sns\n",
    "\n",
    "import warnings\n",
    "warnings.filterwarnings(\"ignore\") # Nous coupons certains warning"
   ],
   "execution_count": 1,
   "outputs": []
  },
  {
   "cell_type": "markdown",
   "metadata": {
    "id": "iH3pCO4ZHWys"
   },
   "source": [
    "Maintenant que nous avons à disposition l'ensemble des librairies utile au bon déroulement de cette analyse de données, nous allons charger nos données et démarrer le nettoyage de celle-ci.\n",
    "\n",
    "Dans le fichier des keywords, il nous est précisé que les champs sont séparés par une tabulation. Nous devrons donc le préciser à pandas lors du chargement des données."
   ]
  },
  {
   "cell_type": "code",
   "metadata": {
    "id": "vJBoiQ4JHWyt"
   },
   "source": [
    "data = pd.read_csv(\"data/fr.openfoodfacts.org.products.csv\", \"\\t\")"
   ],
   "execution_count": 2,
   "outputs": []
  },
  {
   "cell_type": "markdown",
   "metadata": {
    "id": "1WoEa2xvHWyu"
   },
   "source": [
    "Affichons maintenant le début des données pour en voir l'aperçu avant de démarrer le nettoyage."
   ]
  },
  {
   "cell_type": "code",
   "metadata": {
    "id": "iKSALKg7HWyu",
    "colab": {
     "base_uri": "https://localhost:8080/",
     "height": 446
    },
    "outputId": "8e3a6e73-2129-4931-8945-4a42e3e8969c"
   },
   "source": [
    "data.head()"
   ],
   "execution_count": 3,
   "outputs": [
    {
     "data": {
      "text/plain": "                   code                                                url  \\\n0     00000000000000225  http://world-fr.openfoodfacts.org/produit/0000...   \n1  00000000000003429145  http://world-fr.openfoodfacts.org/produit/0000...   \n2         0000000000017  http://world-fr.openfoodfacts.org/produit/0000...   \n3         0000000000031  http://world-fr.openfoodfacts.org/produit/0000...   \n4    000000000003327986  http://world-fr.openfoodfacts.org/produit/0000...   \n\n          creator   created_t      created_datetime  last_modified_t  \\\n0  nutrinet-sante  1623855208  2021-06-16T14:53:28Z       1623855209   \n1         kiliweb  1630483911  2021-09-01T08:11:51Z       1630484064   \n2         kiliweb  1529059080  2018-06-15T10:38:00Z       1561463718   \n3        isagoofy  1539464774  2018-10-13T21:06:14Z       1539464817   \n4         kiliweb  1574175736  2019-11-19T15:02:16Z       1624390765   \n\n  last_modified_datetime               product_name abbreviated_product_name  \\\n0   2021-06-16T14:53:29Z             jeunes pousses                      NaN   \n1   2021-09-01T08:14:24Z                    L.casei                      NaN   \n2   2019-06-25T11:55:18Z           Vitória crackers                      NaN   \n3   2018-10-13T21:06:57Z                      Cacao                      NaN   \n4   2021-06-22T19:39:25Z  Filetes de pollo empanado                      NaN   \n\n  generic_name  ... carbon-footprint-from-meat-or-fish_100g  \\\n0          NaN  ...                                     NaN   \n1          NaN  ...                                     NaN   \n2          NaN  ...                                     NaN   \n3          NaN  ...                                     NaN   \n4          NaN  ...                                     NaN   \n\n  nutrition-score-fr_100g nutrition-score-uk_100g glycemic-index_100g  \\\n0                     NaN                     NaN                 NaN   \n1                     NaN                     NaN                 NaN   \n2                     NaN                     NaN                 NaN   \n3                     NaN                     NaN                 NaN   \n4                     NaN                     NaN                 NaN   \n\n  water-hardness_100g choline_100g phylloquinone_100g beta-glucan_100g  \\\n0                 NaN          NaN                NaN              NaN   \n1                 NaN          NaN                NaN              NaN   \n2                 NaN          NaN                NaN              NaN   \n3                 NaN          NaN                NaN              NaN   \n4                 NaN          NaN                NaN              NaN   \n\n  inositol_100g carnitine_100g  \n0           NaN            NaN  \n1           NaN            NaN  \n2           NaN            NaN  \n3           NaN            NaN  \n4           NaN            NaN  \n\n[5 rows x 187 columns]",
      "text/html": "<div>\n<style scoped>\n    .dataframe tbody tr th:only-of-type {\n        vertical-align: middle;\n    }\n\n    .dataframe tbody tr th {\n        vertical-align: top;\n    }\n\n    .dataframe thead th {\n        text-align: right;\n    }\n</style>\n<table border=\"1\" class=\"dataframe\">\n  <thead>\n    <tr style=\"text-align: right;\">\n      <th></th>\n      <th>code</th>\n      <th>url</th>\n      <th>creator</th>\n      <th>created_t</th>\n      <th>created_datetime</th>\n      <th>last_modified_t</th>\n      <th>last_modified_datetime</th>\n      <th>product_name</th>\n      <th>abbreviated_product_name</th>\n      <th>generic_name</th>\n      <th>...</th>\n      <th>carbon-footprint-from-meat-or-fish_100g</th>\n      <th>nutrition-score-fr_100g</th>\n      <th>nutrition-score-uk_100g</th>\n      <th>glycemic-index_100g</th>\n      <th>water-hardness_100g</th>\n      <th>choline_100g</th>\n      <th>phylloquinone_100g</th>\n      <th>beta-glucan_100g</th>\n      <th>inositol_100g</th>\n      <th>carnitine_100g</th>\n    </tr>\n  </thead>\n  <tbody>\n    <tr>\n      <th>0</th>\n      <td>00000000000000225</td>\n      <td>http://world-fr.openfoodfacts.org/produit/0000...</td>\n      <td>nutrinet-sante</td>\n      <td>1623855208</td>\n      <td>2021-06-16T14:53:28Z</td>\n      <td>1623855209</td>\n      <td>2021-06-16T14:53:29Z</td>\n      <td>jeunes pousses</td>\n      <td>NaN</td>\n      <td>NaN</td>\n      <td>...</td>\n      <td>NaN</td>\n      <td>NaN</td>\n      <td>NaN</td>\n      <td>NaN</td>\n      <td>NaN</td>\n      <td>NaN</td>\n      <td>NaN</td>\n      <td>NaN</td>\n      <td>NaN</td>\n      <td>NaN</td>\n    </tr>\n    <tr>\n      <th>1</th>\n      <td>00000000000003429145</td>\n      <td>http://world-fr.openfoodfacts.org/produit/0000...</td>\n      <td>kiliweb</td>\n      <td>1630483911</td>\n      <td>2021-09-01T08:11:51Z</td>\n      <td>1630484064</td>\n      <td>2021-09-01T08:14:24Z</td>\n      <td>L.casei</td>\n      <td>NaN</td>\n      <td>NaN</td>\n      <td>...</td>\n      <td>NaN</td>\n      <td>NaN</td>\n      <td>NaN</td>\n      <td>NaN</td>\n      <td>NaN</td>\n      <td>NaN</td>\n      <td>NaN</td>\n      <td>NaN</td>\n      <td>NaN</td>\n      <td>NaN</td>\n    </tr>\n    <tr>\n      <th>2</th>\n      <td>0000000000017</td>\n      <td>http://world-fr.openfoodfacts.org/produit/0000...</td>\n      <td>kiliweb</td>\n      <td>1529059080</td>\n      <td>2018-06-15T10:38:00Z</td>\n      <td>1561463718</td>\n      <td>2019-06-25T11:55:18Z</td>\n      <td>Vitória crackers</td>\n      <td>NaN</td>\n      <td>NaN</td>\n      <td>...</td>\n      <td>NaN</td>\n      <td>NaN</td>\n      <td>NaN</td>\n      <td>NaN</td>\n      <td>NaN</td>\n      <td>NaN</td>\n      <td>NaN</td>\n      <td>NaN</td>\n      <td>NaN</td>\n      <td>NaN</td>\n    </tr>\n    <tr>\n      <th>3</th>\n      <td>0000000000031</td>\n      <td>http://world-fr.openfoodfacts.org/produit/0000...</td>\n      <td>isagoofy</td>\n      <td>1539464774</td>\n      <td>2018-10-13T21:06:14Z</td>\n      <td>1539464817</td>\n      <td>2018-10-13T21:06:57Z</td>\n      <td>Cacao</td>\n      <td>NaN</td>\n      <td>NaN</td>\n      <td>...</td>\n      <td>NaN</td>\n      <td>NaN</td>\n      <td>NaN</td>\n      <td>NaN</td>\n      <td>NaN</td>\n      <td>NaN</td>\n      <td>NaN</td>\n      <td>NaN</td>\n      <td>NaN</td>\n      <td>NaN</td>\n    </tr>\n    <tr>\n      <th>4</th>\n      <td>000000000003327986</td>\n      <td>http://world-fr.openfoodfacts.org/produit/0000...</td>\n      <td>kiliweb</td>\n      <td>1574175736</td>\n      <td>2019-11-19T15:02:16Z</td>\n      <td>1624390765</td>\n      <td>2021-06-22T19:39:25Z</td>\n      <td>Filetes de pollo empanado</td>\n      <td>NaN</td>\n      <td>NaN</td>\n      <td>...</td>\n      <td>NaN</td>\n      <td>NaN</td>\n      <td>NaN</td>\n      <td>NaN</td>\n      <td>NaN</td>\n      <td>NaN</td>\n      <td>NaN</td>\n      <td>NaN</td>\n      <td>NaN</td>\n      <td>NaN</td>\n    </tr>\n  </tbody>\n</table>\n<p>5 rows × 187 columns</p>\n</div>"
     },
     "execution_count": 3,
     "metadata": {},
     "output_type": "execute_result"
    }
   ]
  },
  {
   "cell_type": "markdown",
   "metadata": {
    "id": "pNsh_L7QHWyv"
   },
   "source": [
    "La colonne (product name) éveille notre attention, en effet, cette colonne contient les noms de chaque produit.\n",
    "\n",
    "\n",
    "Voyons, s'il y a des valeurs dupliquées (on choisit \"Peanuits\" pour les besoins du test) :"
   ]
  },
  {
   "cell_type": "code",
   "metadata": {
    "id": "JO9WWWGNHWyv",
    "colab": {
     "base_uri": "https://localhost:8080/"
    },
    "outputId": "b14631f8-7e44-4903-ffed-d087e75a70ec"
   },
   "source": [
    "peanuts = data.loc[data['product_name']=='Peanuts']\n",
    "\n",
    "print(peanuts.head())\n",
    "\n",
    "print(f\"Nombre de lignes comprenant Peanuts : {len(peanuts)}\")"
   ],
   "execution_count": 4,
   "outputs": [
    {
     "name": "stdout",
     "output_type": "stream",
     "text": [
      "                code                                                url  \\\n",
      "62     0000000004559  http://world-fr.openfoodfacts.org/produit/0000...   \n",
      "295    0000000045599  http://world-fr.openfoodfacts.org/produit/0000...   \n",
      "3979   0009166888088  http://world-fr.openfoodfacts.org/produit/0009...   \n",
      "5333          106313  http://world-fr.openfoodfacts.org/produit/0010...   \n",
      "10616    11110872098  http://world-fr.openfoodfacts.org/produit/0011...   \n",
      "\n",
      "               creator   created_t      created_datetime  last_modified_t  \\\n",
      "62     usda-ndb-import  1489069957  2017-03-09T14:32:37Z       1489069957   \n",
      "295    usda-ndb-import  1489050423  2017-03-09T09:07:03Z       1489050423   \n",
      "3979           kiliweb  1628486431  2021-08-09T05:20:31Z       1628486432   \n",
      "5333   usda-ndb-import  1489061323  2017-03-09T12:08:43Z       1587577372   \n",
      "10616  usda-ndb-import  1489073121  2017-03-09T15:25:21Z       1587586045   \n",
      "\n",
      "      last_modified_datetime product_name abbreviated_product_name  \\\n",
      "62      2017-03-09T14:32:37Z      Peanuts                      NaN   \n",
      "295     2017-03-09T09:07:03Z      Peanuts                      NaN   \n",
      "3979    2021-08-09T05:20:32Z      Peanuts                      NaN   \n",
      "5333    2020-04-22T17:42:52Z      Peanuts                      NaN   \n",
      "10616   2020-04-22T20:07:25Z      Peanuts                      NaN   \n",
      "\n",
      "      generic_name  ... carbon-footprint-from-meat-or-fish_100g  \\\n",
      "62             NaN  ...                                     NaN   \n",
      "295            NaN  ...                                     NaN   \n",
      "3979           NaN  ...                                     NaN   \n",
      "5333           NaN  ...                                     NaN   \n",
      "10616          NaN  ...                                     NaN   \n",
      "\n",
      "      nutrition-score-fr_100g nutrition-score-uk_100g glycemic-index_100g  \\\n",
      "62                        NaN                     NaN                 NaN   \n",
      "295                       NaN                     NaN                 NaN   \n",
      "3979                      NaN                     NaN                 NaN   \n",
      "5333                     -1.0                     NaN                 NaN   \n",
      "10616                     3.0                     NaN                 NaN   \n",
      "\n",
      "      water-hardness_100g choline_100g phylloquinone_100g beta-glucan_100g  \\\n",
      "62                    NaN          NaN                NaN              NaN   \n",
      "295                   NaN          NaN                NaN              NaN   \n",
      "3979                  NaN          NaN                NaN              NaN   \n",
      "5333                  NaN          NaN                NaN              NaN   \n",
      "10616                 NaN          NaN                NaN              NaN   \n",
      "\n",
      "      inositol_100g carnitine_100g  \n",
      "62              NaN            NaN  \n",
      "295             NaN            NaN  \n",
      "3979            NaN            NaN  \n",
      "5333            NaN            NaN  \n",
      "10616           NaN            NaN  \n",
      "\n",
      "[5 rows x 187 columns]\n",
      "Nombre de lignes comprenant Peanuts : 145\n"
     ]
    }
   ]
  },
  {
   "cell_type": "markdown",
   "metadata": {
    "id": "UEYwOUA0HWyw"
   },
   "source": [
    "En observant la sortie, nous nous rendons compte qu'il y a plusieurs entrées pour Peanuts. Cela s'explique par le fait que les personnes peuvent ajouter des données ou mettre à jour des données manquantes.\n",
    "\n",
    "Nous allons supprimer les duplicata en gardant le dernier en date pour garder la dernière mise à jour."
   ]
  },
  {
   "cell_type": "code",
   "metadata": {
    "id": "ttHrltcDHWyz",
    "colab": {
     "base_uri": "https://localhost:8080/"
    },
    "outputId": "370edb6f-6e54-4d70-e4c0-689b8b96abab"
   },
   "source": [
    "data_clean = data.drop_duplicates(subset=\"product_name\", keep='last')\n",
    "\n",
    "print(f\"Il y a un total de {len(data) - len(data_clean)} lignes dupliquées.\")    \n",
    "\n",
    "data = data_clean "
   ],
   "execution_count": 5,
   "outputs": [
    {
     "name": "stdout",
     "output_type": "stream",
     "text": [
      "Il y a un total de 766838 lignes dupliquées.\n"
     ]
    }
   ]
  },
  {
   "cell_type": "markdown",
   "metadata": {
    "id": "eV1YwJKUHWy0"
   },
   "source": [
    "Nous voyons désormais qu'un total assez important de lignes étaient dupliqué. Vérifions si les changements ont bien fonctionné."
   ]
  },
  {
   "cell_type": "code",
   "metadata": {
    "id": "_XpNG6HIHWy1",
    "colab": {
     "base_uri": "https://localhost:8080/"
    },
    "outputId": "a5ec294b-de7c-4428-8216-4f2d8da4b73c"
   },
   "source": [
    "peanuts = data.loc[data['product_name']=='Peanuts']\n",
    "print(f\"Nombre de lignes comprenant Peanuts : {len(peanuts)}\")"
   ],
   "execution_count": 6,
   "outputs": [
    {
     "name": "stdout",
     "output_type": "stream",
     "text": [
      "Nombre de lignes comprenant Peanuts : 1\n"
     ]
    }
   ]
  },
  {
   "cell_type": "markdown",
   "metadata": {
    "id": "mnXlI-dkHWy2"
   },
   "source": [
    "Nous voyons qu'il ne reste effectivement plus qu'une ligne dans Peanuts.\n",
    "\n",
    "Désormais, nous allons supprimer les valeurs manquantes et faire de l'imputation après avoir nettoyé les valeurs aberrantes pour éviter les risques d'erreurs."
   ]
  },
  {
   "cell_type": "code",
   "metadata": {
    "id": "n26UE8FoHWy2"
   },
   "source": [
    "cd = data[data.columns[data.isna().sum() / data.shape[0] <= 0.8]].copy()\n",
    "cd.dropna(how='all',inplace=True) \n",
    "cd.drop_duplicates(keep=\"first\",inplace=True) \n",
    "cd = cd[cd[\"product_name\"].notna()] \n",
    "data = cd.copy()\n",
    "\n",
    "def clean_string(value):\n",
    "    value = re.sub(r'&quot;','\\\"',value)\n",
    "    value = re.sub(r'&deg;','°',value)\n",
    "    value = re.sub(r'&gt;','>',value)\n",
    "    value = re.sub(r'&lt;','<',value)\n",
    "    value = re.sub(r'^\\s+|\\s+$','',value)\n",
    "    value = re.sub(r'^[,.\\';:!&+]','',value)\n",
    "    value = re.sub(r'[,\\';:&]$','',value)\n",
    "    value = re.sub(r'^\\s+|\\s+$','',value)\n",
    "    return value.lower()"
   ],
   "execution_count": 7,
   "outputs": []
  },
  {
   "cell_type": "markdown",
   "metadata": {
    "id": "uMXAuAYoHWy2"
   },
   "source": [
    "Maintenant, on a un dataset assez simplement nettoyé. Il faut désormais faire un nettoyage plus en profondeur au niveau des valeurs aberrante ou manquantes sur les valeurs quantitatives.\n",
    "\n",
    "On prendra exclusivement les données française pour l'application choisis"
   ]
  },
  {
   "cell_type": "code",
   "metadata": {
    "id": "6Zv_3qcuHWy2",
    "colab": {
     "base_uri": "https://localhost:8080/"
    },
    "outputId": "0cfb0405-9e37-457e-cee5-85d955f33537"
   },
   "source": [
    "france = [\"France\",\"france\",\"française\",\"FRANCE\",\"fr\",\"French\",\"french\",\"FRENCH\", \"Polynesie française\", \"Guadeloupe\", \"guadeloupe\", \"francia\", \"Francia\"]\n",
    "\n",
    "def is_only_france_countrie(row,split,prefix_size=3)->bool:\n",
    "    if len(row.split(split))!=1:\n",
    "        return False\n",
    "    if row in france:\n",
    "        return True\n",
    "    else:\n",
    "        if row[prefix_size:] in france:\n",
    "            return True\n",
    "        else:\n",
    "            return False\n",
    "\n",
    "value_countries_only_fr = [p for p in list(data[\"countries\"].value_counts().index) if is_only_france_countrie(p,\", \")]  \n",
    "data_france = data.loc[data[\"countries\"].isin(value_countries_only_fr)]\n",
    "\n",
    "quantitative = [col for col in data.columns if col.endswith(\"_100g\")]\n",
    "\n",
    "selected_columns = quantitative.copy()\n",
    "selected_columns.append(\"product_name\")\n",
    "selected_columns.append(\"pnns_groups_1\")\n",
    "selected_columns.append(\"pnns_groups_2\")\n",
    "selected_columns.append(\"nutriscore_grade\")\n",
    "\n",
    "data = data_france[selected_columns] \n",
    "\n",
    "data = data[data['pnns_groups_1'].notna()]\n",
    "data = data[data['pnns_groups_2'].notna()]\n",
    "data = data[data[\"nutriscore_grade\"].notna()]\n",
    "\n",
    "print(len(data))\n",
    "data = data.dropna(how=\"all\",subset=quantitative) \n",
    "print(len(data))"
   ],
   "execution_count": 8,
   "outputs": [
    {
     "name": "stdout",
     "output_type": "stream",
     "text": [
      "149023\n",
      "149023\n"
     ]
    }
   ]
  },
  {
   "cell_type": "markdown",
   "metadata": {
    "id": "LYcAWkraHWy3"
   },
   "source": [
    "Nous venons de nous occuper du nettoyage simple et sans risque des valeurs quantitatives, il faut maintenant continuer en voyant la distribution des Non-nan"
   ]
  },
  {
   "cell_type": "code",
   "metadata": {
    "id": "n44MnYlTHWy3",
    "colab": {
     "base_uri": "https://localhost:8080/",
     "height": 660
    },
    "outputId": "f3feba00-53ec-4483-9338-70b12ab9d674"
   },
   "source": [
    "notna = ((data.notna().sum() / data.shape[0]) * 100).sort_values(ascending=False)\n",
    "notna.plot(kind=\"hist\", figsize=(15,10), bins=notna.shape[0])\n",
    "plt.title(\"Distribution des NaN\", fontsize=16)\n",
    "plt.xlabel(\"Pourcentage de colonnes remplis\")\n",
    "plt.show()\n",
    "\n",
    "notna = ((data.notna().sum() / data.shape[0]) * 100).round(3).sort_values(ascending=False)\n",
    "res = { notna.index[k]:str(v) + \"%\" for k,v in enumerate(notna) }\n",
    "print(res)   "
   ],
   "execution_count": 9,
   "outputs": [
    {
     "data": {
      "text/plain": "<Figure size 1080x720 with 1 Axes>",
      "image/png": "[encoded data removed]"
     },
     "metadata": {
      "needs_background": "light"
     },
     "output_type": "display_data"
    },
    {
     "name": "stdout",
     "output_type": "stream",
     "text": [
      "{'nutrition-score-fr_100g': '100.0%', 'product_name': '100.0%', 'pnns_groups_1': '100.0%', 'pnns_groups_2': '100.0%', 'nutriscore_grade': '100.0%', 'salt_100g': '99.885%', 'sodium_100g': '99.885%', 'energy_100g': '99.87%', 'saturated-fat_100g': '99.869%', 'sugars_100g': '99.868%', 'proteins_100g': '99.868%', 'fat_100g': '99.867%', 'carbohydrates_100g': '99.819%', 'energy-kcal_100g': '90.954%', 'fruits-vegetables-nuts-estimate-from-ingredients_100g': '62.856%', 'fiber_100g': '38.797%'}\n"
     ]
    }
   ]
  },
  {
   "cell_type": "markdown",
   "metadata": {
    "id": "uwUu3sSbHWy4"
   },
   "source": [
    "Nous remarquons que le notebook est plutôt bien rempli\n",
    "\n",
    "Néanmoins, ils restent encore des NaN dans les variables quantitatives, nous allons essayer de mettre en place un KNNImputer mais avant, nous devons nous assurer qu'il n'existe plus de valeurs abbérante dans notre dataset pour les valeurs quantitative"
   ]
  },
  {
   "cell_type": "code",
   "metadata": {
    "id": "3o7pj_7A2buh",
    "colab": {
     "base_uri": "https://localhost:8080/",
     "height": 372
    },
    "outputId": "5c2345b7-5a76-4e2e-823d-f12e20a244af"
   },
   "source": [
    "data[quantitative].describe()"
   ],
   "execution_count": 10,
   "outputs": [
    {
     "data": {
      "text/plain": "       energy-kcal_100g   energy_100g       fat_100g  saturated-fat_100g  \\\ncount      1.355420e+05  1.488300e+05  148825.000000       148828.000000   \nmean       2.875573e+02  1.202428e+03      14.963078            5.779047   \nstd        3.698385e+03  2.077531e+04      77.207695            9.878213   \nmin        0.000000e+00  0.000000e+00       0.000000            0.000000   \n25%        1.210000e+02  4.980000e+02       1.600000            0.400000   \n50%        2.520000e+02  1.042000e+03       9.000000            2.400000   \n75%        3.990000e+02  1.657000e+03      22.800000            8.400000   \nmax        1.360000e+06  8.010000e+06   29000.000000         2000.000000   \n\n       carbohydrates_100g    sugars_100g    fiber_100g  proteins_100g  \\\ncount       148754.000000  148827.000000  57816.000000  148827.000000   \nmean            26.648084      12.963338      2.685719       9.101933   \nstd            498.442914      72.350110      4.148140     189.400558   \nmin             -1.000000      -1.000000      0.000000       0.000000   \n25%              2.500000       0.700000      0.300000       2.000000   \n50%             13.000000       3.300000      1.600000       6.400000   \n75%             49.000000      18.000000      3.420000      12.500000   \nmax         192000.000000   27000.000000     96.000000   73000.000000   \n\n           salt_100g    sodium_100g  \\\ncount  148852.000000  148852.000000   \nmean        1.131344       0.452869   \nstd        36.883104      14.753800   \nmin         0.000000       0.000000   \n25%         0.090000       0.036000   \n50%         0.600000       0.240000   \n75%         1.300000       0.520000   \nmax     14000.000000    5600.000000   \n\n       fruits-vegetables-nuts-estimate-from-ingredients_100g  \\\ncount                                       93670.000000       \nmean                                           13.294675       \nstd                                            45.065664       \nmin                                             0.000000       \n25%                                             0.000000       \n50%                                             0.000000       \n75%                                            11.731250       \nmax                                          7314.000000       \n\n       nutrition-score-fr_100g  \ncount            149023.000000  \nmean                  9.540011  \nstd                   8.756459  \nmin                 -15.000000  \n25%                   2.000000  \n50%                  10.000000  \n75%                  16.000000  \nmax                  40.000000  ",
      "text/html": "<div>\n<style scoped>\n    .dataframe tbody tr th:only-of-type {\n        vertical-align: middle;\n    }\n\n    .dataframe tbody tr th {\n        vertical-align: top;\n    }\n\n    .dataframe thead th {\n        text-align: right;\n    }\n</style>\n<table border=\"1\" class=\"dataframe\">\n  <thead>\n    <tr style=\"text-align: right;\">\n      <th></th>\n      <th>energy-kcal_100g</th>\n      <th>energy_100g</th>\n      <th>fat_100g</th>\n      <th>saturated-fat_100g</th>\n      <th>carbohydrates_100g</th>\n      <th>sugars_100g</th>\n      <th>fiber_100g</th>\n      <th>proteins_100g</th>\n      <th>salt_100g</th>\n      <th>sodium_100g</th>\n      <th>fruits-vegetables-nuts-estimate-from-ingredients_100g</th>\n      <th>nutrition-score-fr_100g</th>\n    </tr>\n  </thead>\n  <tbody>\n    <tr>\n      <th>count</th>\n      <td>1.355420e+05</td>\n      <td>1.488300e+05</td>\n      <td>148825.000000</td>\n      <td>148828.000000</td>\n      <td>148754.000000</td>\n      <td>148827.000000</td>\n      <td>57816.000000</td>\n      <td>148827.000000</td>\n      <td>148852.000000</td>\n      <td>148852.000000</td>\n      <td>93670.000000</td>\n      <td>149023.000000</td>\n    </tr>\n    <tr>\n      <th>mean</th>\n      <td>2.875573e+02</td>\n      <td>1.202428e+03</td>\n      <td>14.963078</td>\n      <td>5.779047</td>\n      <td>26.648084</td>\n      <td>12.963338</td>\n      <td>2.685719</td>\n      <td>9.101933</td>\n      <td>1.131344</td>\n      <td>0.452869</td>\n      <td>13.294675</td>\n      <td>9.540011</td>\n    </tr>\n    <tr>\n      <th>std</th>\n      <td>3.698385e+03</td>\n      <td>2.077531e+04</td>\n      <td>77.207695</td>\n      <td>9.878213</td>\n      <td>498.442914</td>\n      <td>72.350110</td>\n      <td>4.148140</td>\n      <td>189.400558</td>\n      <td>36.883104</td>\n      <td>14.753800</td>\n      <td>45.065664</td>\n      <td>8.756459</td>\n    </tr>\n    <tr>\n      <th>min</th>\n      <td>0.000000e+00</td>\n      <td>0.000000e+00</td>\n      <td>0.000000</td>\n      <td>0.000000</td>\n      <td>-1.000000</td>\n      <td>-1.000000</td>\n      <td>0.000000</td>\n      <td>0.000000</td>\n      <td>0.000000</td>\n      <td>0.000000</td>\n      <td>0.000000</td>\n      <td>-15.000000</td>\n    </tr>\n    <tr>\n      <th>25%</th>\n      <td>1.210000e+02</td>\n      <td>4.980000e+02</td>\n      <td>1.600000</td>\n      <td>0.400000</td>\n      <td>2.500000</td>\n      <td>0.700000</td>\n      <td>0.300000</td>\n      <td>2.000000</td>\n      <td>0.090000</td>\n      <td>0.036000</td>\n      <td>0.000000</td>\n      <td>2.000000</td>\n    </tr>\n    <tr>\n      <th>50%</th>\n      <td>2.520000e+02</td>\n      <td>1.042000e+03</td>\n      <td>9.000000</td>\n      <td>2.400000</td>\n      <td>13.000000</td>\n      <td>3.300000</td>\n      <td>1.600000</td>\n      <td>6.400000</td>\n      <td>0.600000</td>\n      <td>0.240000</td>\n      <td>0.000000</td>\n      <td>10.000000</td>\n    </tr>\n    <tr>\n      <th>75%</th>\n      <td>3.990000e+02</td>\n      <td>1.657000e+03</td>\n      <td>22.800000</td>\n      <td>8.400000</td>\n      <td>49.000000</td>\n      <td>18.000000</td>\n      <td>3.420000</td>\n      <td>12.500000</td>\n      <td>1.300000</td>\n      <td>0.520000</td>\n      <td>11.731250</td>\n      <td>16.000000</td>\n    </tr>\n    <tr>\n      <th>max</th>\n      <td>1.360000e+06</td>\n      <td>8.010000e+06</td>\n      <td>29000.000000</td>\n      <td>2000.000000</td>\n      <td>192000.000000</td>\n      <td>27000.000000</td>\n      <td>96.000000</td>\n      <td>73000.000000</td>\n      <td>14000.000000</td>\n      <td>5600.000000</td>\n      <td>7314.000000</td>\n      <td>40.000000</td>\n    </tr>\n  </tbody>\n</table>\n</div>"
     },
     "execution_count": 10,
     "metadata": {},
     "output_type": "execute_result"
    }
   ]
  },
  {
   "cell_type": "markdown",
   "metadata": {
    "id": "xSAJuVHp3Kkq"
   },
   "source": [
    "Les valeurs min semblent bonne mais les valeurs max sont abbérantes pour energy-kcal_100g, energy_100g, carbohydrates_100g, calcium_100g, fruits-vegetables-nuts-estimate-from-ingredients_100g"
   ]
  },
  {
   "cell_type": "code",
   "metadata": {
    "id": "UbCCj8Kn3s2S",
    "colab": {
     "base_uri": "https://localhost:8080/",
     "height": 996
    },
    "outputId": "75b89515-fe00-4cbf-c7ad-381c0a098eb1"
   },
   "source": [
    "for q in quantitative:\n",
    "  data[q].values[data[q].values > 100] = np.nan\n",
    "  data[q].values[data[q].values < 0] = np.nan\n",
    "  \n",
    "data.drop(index=data[data['pnns_groups_1'] == 'unknown'].index, inplace=True)\n",
    "data.drop(index=data[data['pnns_groups_2'] == 'unknown'].index, inplace=True)\n",
    "data.drop(index=data[data['nutriscore_grade'] == 'unknown'].index, inplace=True)\n",
    "\n",
    "notna = ((data.notna().sum() / data.shape[0]) * 100).sort_values(ascending=False)\n",
    "notna.plot(kind=\"hist\", figsize=(15,10), bins=notna.shape[0])\n",
    "plt.title(\"Distribution des NaN\", fontsize=16)\n",
    "plt.xlabel(\"Pourcentage de colonnes remplis\")\n",
    "plt.show()\n",
    "\n",
    "notna = ((data.notna().sum() / data.shape[0]) * 100).round(3).sort_values(ascending=False)\n",
    "res = { notna.index[k]:str(v) + \"%\" for k,v in enumerate(notna) }\n",
    "print(res)   \n",
    "data[quantitative].describe()"
   ],
   "execution_count": 11,
   "outputs": [
    {
     "data": {
      "text/plain": "<Figure size 1080x720 with 1 Axes>",
      "image/png": "[encoded data removed]"
     },
     "metadata": {
      "needs_background": "light"
     },
     "output_type": "display_data"
    },
    {
     "name": "stdout",
     "output_type": "stream",
     "text": [
      "{'product_name': '100.0%', 'pnns_groups_1': '100.0%', 'pnns_groups_2': '100.0%', 'nutriscore_grade': '100.0%', 'sodium_100g': '99.884%', 'salt_100g': '99.883%', 'proteins_100g': '99.865%', 'fat_100g': '99.864%', 'saturated-fat_100g': '99.864%', 'sugars_100g': '99.864%', 'carbohydrates_100g': '99.814%', 'nutrition-score-fr_100g': '86.481%', 'fruits-vegetables-nuts-estimate-from-ingredients_100g': '63.769%', 'fiber_100g': '38.934%', 'energy-kcal_100g': '17.924%', 'energy_100g': '3.727%'}\n"
     ]
    },
    {
     "data": {
      "text/plain": "       energy-kcal_100g  energy_100g       fat_100g  saturated-fat_100g  \\\ncount      24328.000000  5059.000000  135541.000000       135541.000000   \nmean          50.312816    42.030514      15.099506            5.944545   \nstd           28.212493    37.175629      18.043361            8.498436   \nmin            0.000000     0.000000       0.000000            0.000000   \n25%           30.000000     4.000000       1.700000            0.400000   \n50%           48.000000    42.000000       9.300000            2.500000   \n75%           73.000000    79.000000      23.000000            8.800000   \nmax          100.000000   100.000000     100.000000          100.000000   \n\n       carbohydrates_100g    sugars_100g    fiber_100g  proteins_100g  \\\ncount       135473.000000  135542.000000  52844.000000  135543.000000   \nmean            25.251346      12.736726      2.593154       8.559705   \nstd             26.339788      18.398053      3.823318       8.051277   \nmin              0.000000       0.000000      0.000000       0.000000   \n25%              2.400000       0.700000      0.300000       2.200000   \n50%             13.000000       3.300000      1.600000       6.500000   \n75%             49.000000      18.000000      3.400000      12.600000   \nmax            100.000000     100.000000     96.000000     100.000000   \n\n           salt_100g    sodium_100g  \\\ncount  135567.000000  135568.000000   \nmean        0.975269       0.390882   \nstd         1.844424       0.765018   \nmin         0.000000       0.000000   \n25%         0.100000       0.040000   \n50%         0.600000       0.240000   \n75%         1.300000       0.520000   \nmax       100.000000      56.000000   \n\n       fruits-vegetables-nuts-estimate-from-ingredients_100g  \\\ncount                                       86551.000000       \nmean                                           12.287108       \nstd                                            24.850589       \nmin                                             0.000000       \n25%                                             0.000000       \n50%                                             0.000000       \n75%                                            11.111111       \nmax                                           100.000000       \n\n       nutrition-score-fr_100g  \ncount            117377.000000  \nmean                 11.556336  \nstd                   7.705107  \nmin                   0.000000  \n25%                   4.000000  \n50%                  12.000000  \n75%                  17.000000  \nmax                  40.000000  ",
      "text/html": "<div>\n<style scoped>\n    .dataframe tbody tr th:only-of-type {\n        vertical-align: middle;\n    }\n\n    .dataframe tbody tr th {\n        vertical-align: top;\n    }\n\n    .dataframe thead th {\n        text-align: right;\n    }\n</style>\n<table border=\"1\" class=\"dataframe\">\n  <thead>\n    <tr style=\"text-align: right;\">\n      <th></th>\n      <th>energy-kcal_100g</th>\n      <th>energy_100g</th>\n      <th>fat_100g</th>\n      <th>saturated-fat_100g</th>\n      <th>carbohydrates_100g</th>\n      <th>sugars_100g</th>\n      <th>fiber_100g</th>\n      <th>proteins_100g</th>\n      <th>salt_100g</th>\n      <th>sodium_100g</th>\n      <th>fruits-vegetables-nuts-estimate-from-ingredients_100g</th>\n      <th>nutrition-score-fr_100g</th>\n    </tr>\n  </thead>\n  <tbody>\n    <tr>\n      <th>count</th>\n      <td>24328.000000</td>\n      <td>5059.000000</td>\n      <td>135541.000000</td>\n      <td>135541.000000</td>\n      <td>135473.000000</td>\n      <td>135542.000000</td>\n      <td>52844.000000</td>\n      <td>135543.000000</td>\n      <td>135567.000000</td>\n      <td>135568.000000</td>\n      <td>86551.000000</td>\n      <td>117377.000000</td>\n    </tr>\n    <tr>\n      <th>mean</th>\n      <td>50.312816</td>\n      <td>42.030514</td>\n      <td>15.099506</td>\n      <td>5.944545</td>\n      <td>25.251346</td>\n      <td>12.736726</td>\n      <td>2.593154</td>\n      <td>8.559705</td>\n      <td>0.975269</td>\n      <td>0.390882</td>\n      <td>12.287108</td>\n      <td>11.556336</td>\n    </tr>\n    <tr>\n      <th>std</th>\n      <td>28.212493</td>\n      <td>37.175629</td>\n      <td>18.043361</td>\n      <td>8.498436</td>\n      <td>26.339788</td>\n      <td>18.398053</td>\n      <td>3.823318</td>\n      <td>8.051277</td>\n      <td>1.844424</td>\n      <td>0.765018</td>\n      <td>24.850589</td>\n      <td>7.705107</td>\n    </tr>\n    <tr>\n      <th>min</th>\n      <td>0.000000</td>\n      <td>0.000000</td>\n      <td>0.000000</td>\n      <td>0.000000</td>\n      <td>0.000000</td>\n      <td>0.000000</td>\n      <td>0.000000</td>\n      <td>0.000000</td>\n      <td>0.000000</td>\n      <td>0.000000</td>\n      <td>0.000000</td>\n      <td>0.000000</td>\n    </tr>\n    <tr>\n      <th>25%</th>\n      <td>30.000000</td>\n      <td>4.000000</td>\n      <td>1.700000</td>\n      <td>0.400000</td>\n      <td>2.400000</td>\n      <td>0.700000</td>\n      <td>0.300000</td>\n      <td>2.200000</td>\n      <td>0.100000</td>\n      <td>0.040000</td>\n      <td>0.000000</td>\n      <td>4.000000</td>\n    </tr>\n    <tr>\n      <th>50%</th>\n      <td>48.000000</td>\n      <td>42.000000</td>\n      <td>9.300000</td>\n      <td>2.500000</td>\n      <td>13.000000</td>\n      <td>3.300000</td>\n      <td>1.600000</td>\n      <td>6.500000</td>\n      <td>0.600000</td>\n      <td>0.240000</td>\n      <td>0.000000</td>\n      <td>12.000000</td>\n    </tr>\n    <tr>\n      <th>75%</th>\n      <td>73.000000</td>\n      <td>79.000000</td>\n      <td>23.000000</td>\n      <td>8.800000</td>\n      <td>49.000000</td>\n      <td>18.000000</td>\n      <td>3.400000</td>\n      <td>12.600000</td>\n      <td>1.300000</td>\n      <td>0.520000</td>\n      <td>11.111111</td>\n      <td>17.000000</td>\n    </tr>\n    <tr>\n      <th>max</th>\n      <td>100.000000</td>\n      <td>100.000000</td>\n      <td>100.000000</td>\n      <td>100.000000</td>\n      <td>100.000000</td>\n      <td>100.000000</td>\n      <td>96.000000</td>\n      <td>100.000000</td>\n      <td>100.000000</td>\n      <td>56.000000</td>\n      <td>100.000000</td>\n      <td>40.000000</td>\n    </tr>\n  </tbody>\n</table>\n</div>"
     },
     "execution_count": 11,
     "metadata": {},
     "output_type": "execute_result"
    }
   ]
  },
  {
   "cell_type": "markdown",
   "metadata": {
    "id": "oLqL-cgF2dCx"
   },
   "source": [
    "Nous voyons que les valeurs sont désormais plus réaliste. Maintenant que les valeurs aberrantes ont été traitées, nous allons nous occuper de mettre en place le KNNImputer sur les valeurs quantitatives\n"
   ]
  },
  {
   "cell_type": "code",
   "metadata": {
    "id": "m7uDbkPKHWy4"
   },
   "source": [
    "from sklearn.impute import KNNImputer\n",
    " \n",
    "temp_data = data.copy()\n",
    "imputer = KNNImputer(n_neighbors=5)\n",
    "  \n",
    "temp_data[quantitative] = imputer.fit_transform(temp_data[quantitative])\n",
    "\n",
    "pd.concat([temp_data,data[\"product_name\"]],axis=1,join=\"inner\").to_csv(\"data/data_imputer.csv\", sep=\"\\t\", index=False)"
   ],
   "execution_count": 12,
   "outputs": []
  },
  {
   "cell_type": "markdown",
   "metadata": {
    "id": "feG7-3xAdIg3"
   },
   "source": [
    "Verifions maintenant le taux de remplissage :"
   ]
  },
  {
   "cell_type": "code",
   "metadata": {
    "id": "P3JT2JixL42-",
    "colab": {
     "base_uri": "https://localhost:8080/",
     "height": 1000
    },
    "outputId": "590e4485-2312-44fc-f73b-8b7b53c49d1f"
   },
   "source": [
    "data = pd.read_csv(\"data/data_imputer.csv\", \"\\t\")\n",
    "\n",
    "notna = ((data.notna().sum() / data.shape[0]) * 100).sort_values(ascending=False)\n",
    "notna.plot(kind=\"hist\", figsize=(15,10), bins=notna.shape[0])\n",
    "plt.title(\"Distribution des NaN\", fontsize=16)\n",
    "plt.xlabel(\"Pourcentage de colonnes remplis\")\n",
    "plt.show()\n",
    "\n",
    "notna = ((data.notna().sum() / data.shape[0]) * 100).round(3).sort_values(ascending=False)\n",
    "res = { notna.index[k]:str(v) + \"%\" for k,v in enumerate(notna) } \n",
    "print(res)   \n",
    "\n",
    "data.head()"
   ],
   "execution_count": 13,
   "outputs": [
    {
     "data": {
      "text/plain": "<Figure size 1080x720 with 1 Axes>",
      "image/png": "[encoded data removed]"
     },
     "metadata": {
      "needs_background": "light"
     },
     "output_type": "display_data"
    },
    {
     "name": "stdout",
     "output_type": "stream",
     "text": [
      "{'energy-kcal_100g': '100.0%', 'sodium_100g': '100.0%', 'nutriscore_grade': '100.0%', 'pnns_groups_2': '100.0%', 'pnns_groups_1': '100.0%', 'product_name': '100.0%', 'nutrition-score-fr_100g': '100.0%', 'fruits-vegetables-nuts-estimate-from-ingredients_100g': '100.0%', 'salt_100g': '100.0%', 'energy_100g': '100.0%', 'proteins_100g': '100.0%', 'fiber_100g': '100.0%', 'sugars_100g': '100.0%', 'carbohydrates_100g': '100.0%', 'saturated-fat_100g': '100.0%', 'fat_100g': '100.0%', 'product_name.1': '100.0%'}\n"
     ]
    },
    {
     "data": {
      "text/plain": "   energy-kcal_100g  energy_100g  fat_100g  saturated-fat_100g  \\\n0              60.4         33.4       8.2                 2.2   \n1              25.6          0.0      12.7                 1.0   \n2              18.8          6.6      13.0                 4.0   \n3              27.0          1.6       2.2                 0.5   \n4              23.6          0.0      29.0                11.0   \n\n   carbohydrates_100g  sugars_100g  fiber_100g  proteins_100g  salt_100g  \\\n0                29.0         22.0         0.0            5.1      4.600   \n1                 3.9          1.0         3.0            1.9      0.270   \n2                 3.0          0.9         0.4           17.0      1.100   \n3                25.2          0.6         1.6            9.5      0.358   \n4                 0.0          0.0         0.3           16.0      1.600   \n\n   sodium_100g  fruits-vegetables-nuts-estimate-from-ingredients_100g  \\\n0       1.8400                                                0.0       \n1       0.1080                                               15.7       \n2       0.4400                                                0.0       \n3       0.1432                                                0.0       \n4       0.6400                                                0.0       \n\n   nutrition-score-fr_100g                           product_name  \\\n0                     18.0            moutarde au moût de raisin    \n1                      1.0         Salade de macedoine de légumes   \n2                      4.0  cuisse de poulet direct au four curry   \n3                      0.0                       BAguette bressan   \n4                     21.0      Rillettes de sanglier au Chouchen   \n\n          pnns_groups_1             pnns_groups_2 nutriscore_grade  \\\n0        Fat and sauces      Dressings and sauces                d   \n1       Composite foods            One-dish meals                b   \n2        Fish Meat Eggs                      Meat                c   \n3  Cereals and potatoes                     Bread                a   \n4          Salty snacks  Salty and fatty products                e   \n\n                          product_name.1  \n0            moutarde au moût de raisin   \n1         Salade de macedoine de légumes  \n2  cuisse de poulet direct au four curry  \n3                       BAguette bressan  \n4      Rillettes de sanglier au Chouchen  ",
      "text/html": "<div>\n<style scoped>\n    .dataframe tbody tr th:only-of-type {\n        vertical-align: middle;\n    }\n\n    .dataframe tbody tr th {\n        vertical-align: top;\n    }\n\n    .dataframe thead th {\n        text-align: right;\n    }\n</style>\n<table border=\"1\" class=\"dataframe\">\n  <thead>\n    <tr style=\"text-align: right;\">\n      <th></th>\n      <th>energy-kcal_100g</th>\n      <th>energy_100g</th>\n      <th>fat_100g</th>\n      <th>saturated-fat_100g</th>\n      <th>carbohydrates_100g</th>\n      <th>sugars_100g</th>\n      <th>fiber_100g</th>\n      <th>proteins_100g</th>\n      <th>salt_100g</th>\n      <th>sodium_100g</th>\n      <th>fruits-vegetables-nuts-estimate-from-ingredients_100g</th>\n      <th>nutrition-score-fr_100g</th>\n      <th>product_name</th>\n      <th>pnns_groups_1</th>\n      <th>pnns_groups_2</th>\n      <th>nutriscore_grade</th>\n      <th>product_name.1</th>\n    </tr>\n  </thead>\n  <tbody>\n    <tr>\n      <th>0</th>\n      <td>60.4</td>\n      <td>33.4</td>\n      <td>8.2</td>\n      <td>2.2</td>\n      <td>29.0</td>\n      <td>22.0</td>\n      <td>0.0</td>\n      <td>5.1</td>\n      <td>4.600</td>\n      <td>1.8400</td>\n      <td>0.0</td>\n      <td>18.0</td>\n      <td>moutarde au moût de raisin</td>\n      <td>Fat and sauces</td>\n      <td>Dressings and sauces</td>\n      <td>d</td>\n      <td>moutarde au moût de raisin</td>\n    </tr>\n    <tr>\n      <th>1</th>\n      <td>25.6</td>\n      <td>0.0</td>\n      <td>12.7</td>\n      <td>1.0</td>\n      <td>3.9</td>\n      <td>1.0</td>\n      <td>3.0</td>\n      <td>1.9</td>\n      <td>0.270</td>\n      <td>0.1080</td>\n      <td>15.7</td>\n      <td>1.0</td>\n      <td>Salade de macedoine de légumes</td>\n      <td>Composite foods</td>\n      <td>One-dish meals</td>\n      <td>b</td>\n      <td>Salade de macedoine de légumes</td>\n    </tr>\n    <tr>\n      <th>2</th>\n      <td>18.8</td>\n      <td>6.6</td>\n      <td>13.0</td>\n      <td>4.0</td>\n      <td>3.0</td>\n      <td>0.9</td>\n      <td>0.4</td>\n      <td>17.0</td>\n      <td>1.100</td>\n      <td>0.4400</td>\n      <td>0.0</td>\n      <td>4.0</td>\n      <td>cuisse de poulet direct au four curry</td>\n      <td>Fish Meat Eggs</td>\n      <td>Meat</td>\n      <td>c</td>\n      <td>cuisse de poulet direct au four curry</td>\n    </tr>\n    <tr>\n      <th>3</th>\n      <td>27.0</td>\n      <td>1.6</td>\n      <td>2.2</td>\n      <td>0.5</td>\n      <td>25.2</td>\n      <td>0.6</td>\n      <td>1.6</td>\n      <td>9.5</td>\n      <td>0.358</td>\n      <td>0.1432</td>\n      <td>0.0</td>\n      <td>0.0</td>\n      <td>BAguette bressan</td>\n      <td>Cereals and potatoes</td>\n      <td>Bread</td>\n      <td>a</td>\n      <td>BAguette bressan</td>\n    </tr>\n    <tr>\n      <th>4</th>\n      <td>23.6</td>\n      <td>0.0</td>\n      <td>29.0</td>\n      <td>11.0</td>\n      <td>0.0</td>\n      <td>0.0</td>\n      <td>0.3</td>\n      <td>16.0</td>\n      <td>1.600</td>\n      <td>0.6400</td>\n      <td>0.0</td>\n      <td>21.0</td>\n      <td>Rillettes de sanglier au Chouchen</td>\n      <td>Salty snacks</td>\n      <td>Salty and fatty products</td>\n      <td>e</td>\n      <td>Rillettes de sanglier au Chouchen</td>\n    </tr>\n  </tbody>\n</table>\n</div>"
     },
     "execution_count": 13,
     "metadata": {},
     "output_type": "execute_result"
    }
   ]
  }
 ]
}